{
 "cells": [
  {
   "cell_type": "code",
   "execution_count": 1,
   "metadata": {
    "collapsed": true,
    "ExecuteTime": {
     "end_time": "2023-10-12T18:01:48.051282900Z",
     "start_time": "2023-10-12T18:01:48.044150500Z"
    }
   },
   "outputs": [
    {
     "name": "stdout",
     "output_type": "stream",
     "text": [
      "Unexpected exception formatting exception. Falling back to standard exception\n"
     ]
    },
    {
     "name": "stderr",
     "output_type": "stream",
     "text": [
      "Traceback (most recent call last):\n",
      "  File \"/home/gigi/projects/CursoPython/venv/lib/python3.10/site-packages/IPython/core/interactiveshell.py\", line 3526, in run_code\n",
      "  File \"/tmp/ipykernel_24554/2960632776.py\", line 2, in <module>\n",
      "    import pandas as df\n",
      "ModuleNotFoundError: No module named 'pandas'\n",
      "\n",
      "During handling of the above exception, another exception occurred:\n",
      "\n",
      "Traceback (most recent call last):\n",
      "  File \"/home/gigi/projects/CursoPython/venv/lib/python3.10/site-packages/pygments/styles/__init__.py\", line 90, in get_style_by_name\n",
      "ModuleNotFoundError: No module named 'pygments.styles.default'\n",
      "\n",
      "During handling of the above exception, another exception occurred:\n",
      "\n",
      "Traceback (most recent call last):\n",
      "  File \"/home/gigi/projects/CursoPython/venv/lib/python3.10/site-packages/IPython/core/interactiveshell.py\", line 2120, in showtraceback\n",
      "  File \"/home/gigi/projects/CursoPython/venv/lib/python3.10/site-packages/IPython/core/ultratb.py\", line 1435, in structured_traceback\n",
      "  File \"/home/gigi/projects/CursoPython/venv/lib/python3.10/site-packages/IPython/core/ultratb.py\", line 1326, in structured_traceback\n",
      "  File \"/home/gigi/projects/CursoPython/venv/lib/python3.10/site-packages/IPython/core/ultratb.py\", line 1173, in structured_traceback\n",
      "  File \"/home/gigi/projects/CursoPython/venv/lib/python3.10/site-packages/IPython/core/ultratb.py\", line 1063, in format_exception_as_a_whole\n",
      "  File \"/home/gigi/projects/CursoPython/venv/lib/python3.10/site-packages/IPython/core/ultratb.py\", line 1114, in get_records\n",
      "  File \"/home/gigi/projects/CursoPython/venv/lib/python3.10/site-packages/pygments/styles/__init__.py\", line 92, in get_style_by_name\n",
      "pygments.util.ClassNotFound: Could not find style module 'default', though it should be builtin.\n"
     ]
    }
   ],
   "source": [
    "## Pandas:  biblioteca que fornece ferramentas para trabalhar com dados tabulares. Nela você pode facilmebnte:\n",
    "import pandas as df\n",
    "\n",
    "#importar\n",
    "data = df.read_json('rsrcs/users.json')\n",
    "print(data)"
   ]
  },
  {
   "cell_type": "code",
   "execution_count": 2,
   "outputs": [
    {
     "name": "stdout",
     "output_type": "stream",
     "text": [
      "       Nome  Idade           Cidade\n",
      "2     Pedro     18           Cuiabá\n",
      "5      Zeca     19  Fernando Pessoa\n",
      "4  Artemisa     22         São Luis\n",
      "6     Pablo     23           Manaus\n",
      "0      João     25         Terezina\n",
      "3       Ana     28         Brasília\n",
      "1     Maria     30         Curitiba\n"
     ]
    }
   ],
   "source": [
    "# ordernar\n",
    "data = data.sort_values('Idade')\n",
    "print(data)"
   ],
   "metadata": {
    "collapsed": false,
    "ExecuteTime": {
     "end_time": "2023-07-14T20:38:23.906512800Z",
     "start_time": "2023-07-14T20:38:23.679985900Z"
    }
   }
  },
  {
   "cell_type": "code",
   "execution_count": 3,
   "outputs": [
    {
     "name": "stdout",
     "output_type": "stream",
     "text": [
      "       Nome  Idade           Cidade\n",
      "2     Pedro     18           CUIABÁ\n",
      "5      Zeca     19  FERNANDO PESSOA\n",
      "4  Artemisa     22         SÃO LUIS\n",
      "6     Pablo     23           MANAUS\n",
      "0      João     25         TEREZINA\n",
      "3       Ana     28         BRASÍLIA\n",
      "1     Maria     30         CURITIBA\n"
     ]
    }
   ],
   "source": [
    "#transform\n",
    "def transform_somewhat(item):\n",
    "    item['Cidade'] = item['Cidade'].upper()\n",
    "    return item\n",
    "\n",
    "data = data.apply(transform_somewhat,axis=1)\n",
    "\n",
    "print(data)"
   ],
   "metadata": {
    "collapsed": false,
    "ExecuteTime": {
     "end_time": "2023-07-14T19:26:52.109977200Z",
     "start_time": "2023-07-14T19:26:52.055963700Z"
    }
   }
  },
  {
   "cell_type": "code",
   "execution_count": 4,
   "outputs": [
    {
     "name": "stdout",
     "output_type": "stream",
     "text": [
      "       Nome  Idade    Cidade\n",
      "4  Artemisa     22  SÃO LUIS\n",
      "6     Pablo     23    MANAUS\n",
      "0      João     25  TEREZINA\n",
      "3       Ana     28  BRASÍLIA\n",
      "1     Maria     30  CURITIBA\n"
     ]
    }
   ],
   "source": [
    "#Filtrar\n",
    "data= data[data['Idade'] > 20]\n",
    "\n",
    "print(data)"
   ],
   "metadata": {
    "collapsed": false,
    "ExecuteTime": {
     "end_time": "2023-07-14T19:27:20.575873300Z",
     "start_time": "2023-07-14T19:27:20.556834700Z"
    }
   }
  },
  {
   "cell_type": "code",
   "execution_count": 6,
   "outputs": [],
   "source": [
    "# e exportar\n",
    "data.to_json('users.json')"
   ],
   "metadata": {
    "collapsed": false,
    "ExecuteTime": {
     "end_time": "2023-07-14T19:27:48.336784Z",
     "start_time": "2023-07-14T19:27:48.327426900Z"
    }
   }
  },
  {
   "cell_type": "code",
   "execution_count": 8,
   "outputs": [],
   "source": [
    "import streamlit\n",
    "\n",
    "streamlit.write(\"sup\")\n",
    "\n"
   ],
   "metadata": {
    "collapsed": false,
    "ExecuteTime": {
     "end_time": "2023-07-14T20:07:04.542710100Z",
     "start_time": "2023-07-14T20:07:04.539608900Z"
    }
   }
  }
 ],
 "metadata": {
  "kernelspec": {
   "display_name": "Python 3",
   "language": "python",
   "name": "python3"
  },
  "language_info": {
   "codemirror_mode": {
    "name": "ipython",
    "version": 2
   },
   "file_extension": ".py",
   "mimetype": "text/x-python",
   "name": "python",
   "nbconvert_exporter": "python",
   "pygments_lexer": "ipython2",
   "version": "2.7.6"
  }
 },
 "nbformat": 4,
 "nbformat_minor": 0
}
