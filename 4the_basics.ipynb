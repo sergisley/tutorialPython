{
 "cells": [
  {
   "cell_type": "code",
   "execution_count": 1,
   "outputs": [],
   "source": [
    "# o básico!\n",
    "# @todo adicionar importação de classe e função\n",
    "\n",
    "# ninguém espera a inquisição espanhola!\n",
    "def spam():\n",
    "    print('eggs') #!!!!!!!"
   ],
   "metadata": {
    "collapsed": false,
    "ExecuteTime": {
     "end_time": "2023-10-12T16:48:55.039155400Z",
     "start_time": "2023-10-12T16:48:55.037156800Z"
    }
   }
  },
  {
   "cell_type": "code",
   "execution_count": 2,
   "outputs": [],
   "source": [
    "# nada de camel case. Nem ponto e vírgula no final\n",
    "naoPodeCamelCase = 'nem ponto e vírgula';"
   ],
   "metadata": {
    "collapsed": false,
    "ExecuteTime": {
     "end_time": "2023-10-12T16:48:58.079983Z",
     "start_time": "2023-10-12T16:48:58.072981300Z"
    }
   }
  },
  {
   "cell_type": "code",
   "execution_count": 3,
   "outputs": [
    {
     "name": "stdout",
     "output_type": "stream",
     "text": [
      "também não pode cochetes!\n"
     ]
    }
   ],
   "source": [
    "# outras sinalizaçòes de controle como aspas e cochetes são desnecessários. a identação já cuida disso. atenção à ela!\n",
    "if ('não pode parenteses na condição'): {\n",
    "    print('também não pode cochetes!')\n",
    "}"
   ],
   "metadata": {
    "collapsed": false,
    "ExecuteTime": {
     "end_time": "2023-10-12T16:49:06.344112100Z",
     "start_time": "2023-10-12T16:49:06.292781800Z"
    }
   }
  },
  {
   "cell_type": "code",
   "execution_count": 4,
   "outputs": [],
   "source": [
    "# código \"pythonico\" é outra coisa\n",
    "faca_isso = 'que é melhor'"
   ],
   "metadata": {
    "collapsed": false,
    "ExecuteTime": {
     "end_time": "2023-10-12T16:49:08.308768700Z",
     "start_time": "2023-10-12T16:49:08.302766900Z"
    }
   }
  },
  {
   "cell_type": "code",
   "execution_count": 5,
   "outputs": [
    {
     "name": "stdout",
     "output_type": "stream",
     "text": [
      "fica top\n"
     ]
    }
   ],
   "source": [
    "# notem como fica limpo e claro\n",
    "if faca_isso:\n",
    "    print('fica top')"
   ],
   "metadata": {
    "collapsed": false,
    "ExecuteTime": {
     "end_time": "2023-10-12T16:49:10.918761900Z",
     "start_time": "2023-10-12T16:49:10.911759900Z"
    }
   }
  },
  {
   "cell_type": "code",
   "execution_count": null,
   "outputs": [],
   "source": [],
   "metadata": {
    "collapsed": false
   }
  }
 ],
 "metadata": {
  "kernelspec": {
   "display_name": "Python 3",
   "language": "python",
   "name": "python3"
  },
  "language_info": {
   "codemirror_mode": {
    "name": "ipython",
    "version": 2
   },
   "file_extension": ".py",
   "mimetype": "text/x-python",
   "name": "python",
   "nbconvert_exporter": "python",
   "pygments_lexer": "ipython2",
   "version": "2.7.6"
  }
 },
 "nbformat": 4,
 "nbformat_minor": 0
}
