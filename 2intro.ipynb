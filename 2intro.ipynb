{
 "cells": [
  {
   "cell_type": "code",
   "execution_count": 1,
   "metadata": {
    "collapsed": true,
    "ExecuteTime": {
     "end_time": "2023-10-12T16:48:14.907535700Z",
     "start_time": "2023-10-12T16:48:14.848515900Z"
    }
   },
   "outputs": [
    {
     "name": "stdout",
     "output_type": "stream",
     "text": [
      ">>>introduzindo_e_resumindo<<<\n"
     ]
    }
   ],
   "source": [
    "from rsrcs import  introduction\n",
    "\n",
    "introduction.title()"
   ]
  },
  {
   "cell_type": "code",
   "execution_count": 2,
   "outputs": [
    {
     "name": "stdout",
     "output_type": "stream",
     "text": [
      "Criado por Guido van Rossum em 1991. Tem por fundamentais: simplicidade, legibilidade e facilidade de uso;\n"
     ]
    }
   ],
   "source": [
    "introduction.get_next_item()"
   ],
   "metadata": {
    "collapsed": false,
    "ExecuteTime": {
     "end_time": "2023-10-12T16:48:17.268222800Z",
     "start_time": "2023-10-12T16:48:17.264220800Z"
    }
   }
  },
  {
   "cell_type": "code",
   "execution_count": 3,
   "outputs": [
    {
     "name": "stdout",
     "output_type": "stream",
     "text": [
      "não a tôa é a segunda mais popular linguagem de programação do mundo;\n"
     ]
    }
   ],
   "source": [
    "introduction.get_next_item()"
   ],
   "metadata": {
    "collapsed": false,
    "ExecuteTime": {
     "end_time": "2023-10-12T16:48:20.932560500Z",
     "start_time": "2023-10-12T16:48:20.926565Z"
    }
   }
  },
  {
   "cell_type": "code",
   "execution_count": 4,
   "outputs": [
    {
     "name": "stdout",
     "output_type": "stream",
     "text": [
      "usada principalmente para desenvolvimento backend. Tem ganhado bastante espaço graças ao uso pesado em machine learning e data engineering;comunidade e ecossistema: apoio de uma grande comunidade e ampla variedade de bibliotecas e frameworks;tipagem forte e dinâmica;\n"
     ]
    }
   ],
   "source": [
    "introduction.get_next_item()"
   ],
   "metadata": {
    "collapsed": false,
    "ExecuteTime": {
     "end_time": "2023-10-12T16:48:22.359217700Z",
     "start_time": "2023-10-12T16:48:22.315217800Z"
    }
   }
  },
  {
   "cell_type": "code",
   "execution_count": 5,
   "outputs": [
    {
     "name": "stdout",
     "output_type": "stream",
     "text": [
      "multiparadigma: suporta funções anônimas e objetos;\n"
     ]
    }
   ],
   "source": [
    "introduction.get_next_item()"
   ],
   "metadata": {
    "collapsed": false,
    "ExecuteTime": {
     "end_time": "2023-10-12T16:48:23.713778400Z",
     "start_time": "2023-10-12T16:48:23.708780400Z"
    }
   }
  },
  {
   "cell_type": "code",
   "execution_count": 5,
   "outputs": [],
   "source": [],
   "metadata": {
    "collapsed": false,
    "ExecuteTime": {
     "end_time": "2023-10-12T16:48:25.780950900Z",
     "start_time": "2023-10-12T16:48:25.763215900Z"
    }
   }
  },
  {
   "cell_type": "code",
   "execution_count": null,
   "outputs": [],
   "source": [],
   "metadata": {
    "collapsed": false
   }
  }
 ],
 "metadata": {
  "kernelspec": {
   "display_name": "Python 3",
   "language": "python",
   "name": "python3"
  },
  "language_info": {
   "codemirror_mode": {
    "name": "ipython",
    "version": 2
   },
   "file_extension": ".py",
   "mimetype": "text/x-python",
   "name": "python",
   "nbconvert_exporter": "python",
   "pygments_lexer": "ipython2",
   "version": "2.7.6"
  }
 },
 "nbformat": 4,
 "nbformat_minor": 0
}
