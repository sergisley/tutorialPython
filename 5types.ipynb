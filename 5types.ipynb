{
 "cells": [
  {
   "cell_type": "code",
   "execution_count": null,
   "metadata": {
    "collapsed": true
   },
   "outputs": [],
   "source": [
    "####  variáveis - Python é fortemente tipado ( variáveis não mudam depois de definidas)\n",
    "# mas também dinamicamente tipado (a forma do dado na declaração define o tipo da variável)\n",
    "string_type = 'sup \\n td bem?'\n",
    "a = str(\"wabba\")\n",
    "\n",
    "integer_type = 1\n",
    "b = int(20)\n",
    "\n",
    "float_type = 2.34\n",
    "c = float(20.5)\n",
    "\n",
    "bool_type = True  #atenção pro case\n",
    "d = bool(5)\n",
    "\n",
    "noneType = None\n",
    "\n",
    "list_type = ['pão de queijo', 'requeijão', 'café coado']\n",
    "e = list((\"apple\", \"banana\", \"cherry\"))\n",
    "\n",
    "tuple_type = ('manteiga', 'leite da roça', 'bolo de cenoura com cobertura')  # tuples não podem ser modificados\n",
    "f = tuple((\"apple\", \"banana\", \"cherry\"))\n",
    "\n",
    "dict_type = {'cafe': 'oito horas', 'almoco': \"meio dia\", 'jantar': 'na hora da novela das oito'}\n",
    "g = dict(name=\"John\", age=36)\n",
    "\n",
    "\n",
    "range_type = range(12)\n",
    "\n",
    "bytes_type = b\"opa\\xfe\\77\"\n",
    "h = bytes(5)\n",
    "\n",
    "bytes_array_type = bytearray(7)\n",
    "\n",
    "memoryview_type = memoryview(bytes(5))\n",
    "\n",
    "complex_type = 14j  #lembra dos números complexos?\n",
    "i = complex(1j)\n",
    "\n",
    "\n"
   ]
  }
 ],
 "metadata": {
  "kernelspec": {
   "display_name": "Python 3",
   "language": "python",
   "name": "python3"
  },
  "language_info": {
   "codemirror_mode": {
    "name": "ipython",
    "version": 2
   },
   "file_extension": ".py",
   "mimetype": "text/x-python",
   "name": "python",
   "nbconvert_exporter": "python",
   "pygments_lexer": "ipython2",
   "version": "2.7.6"
  }
 },
 "nbformat": 4,
 "nbformat_minor": 0
}
